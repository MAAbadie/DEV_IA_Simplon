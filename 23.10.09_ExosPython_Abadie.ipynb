{
 "cells": [
  {
   "cell_type": "code",
   "execution_count": 2,
   "metadata": {},
   "outputs": [
    {
     "name": "stdout",
     "output_type": "stream",
     "text": [
      " 1 3 5 7 9 11 13 15 17 19 21 23 25 27 29 31 33 35 37 39 41 43 45 47 49 51 53 55 57 59 61 63 65 67\n"
     ]
    }
   ],
   "source": [
    "# Exercice 1\n",
    "from math import ceil\n",
    "\n",
    "def display_odds_btw_limits(number_one, number_two):\n",
    "    # verifier quel nombre est le plus petit\n",
    "    small_one = min((number_one, number_two))\n",
    "    big_one = max((number_one, number_two))\n",
    "    concatenation = \"\"\n",
    "    for i in range(ceil(small_one), ceil(big_one), 1):\n",
    "        if i % 2 != 0:\n",
    "            concatenation += f\" {i}\"\n",
    "    print(concatenation)\n",
    "\n",
    "\n",
    "display_odds_btw_limits(0.23, 68)\n"
   ]
  },
  {
   "cell_type": "code",
   "execution_count": 8,
   "metadata": {},
   "outputs": [
    {
     "name": "stdout",
     "output_type": "stream",
     "text": [
      "Welcome to GUESS the integer between min and max !\n",
      "11\n",
      "Player 1, too small, try again \n",
      "Player 2, it is too big, try again \n",
      "Player 1, it is too big, try again \n",
      "Player 2, it is too big, try again \n",
      "Player 1, too small, try again \n",
      "Player 2, you got it, mate, congrats !! \n"
     ]
    }
   ],
   "source": [
    "#  Exercice 2\n",
    "from random import randint\n",
    "\n",
    "\n",
    "def game_find_the_integer(number_of_players = 1, min_value = 0, max_value = 100):\n",
    "    '''\n",
    "    For a given number of players, launch the find integer method\n",
    "    '''\n",
    "    # create a list of all players with a number for each one\n",
    "    players = [i+1 for i in range(number_of_players)]\n",
    "    goal = randint(min_value, max_value)\n",
    "    print(goal)\n",
    "    end_game = False\n",
    "    while not end_game:\n",
    "        for player in players:\n",
    "            end_game = player_x_try_to_find_the_integer(player, goal, min_value, max_value)\n",
    "\n",
    "\n",
    "def player_x_try_to_find_the_integer(player, goal, min_value = 0, max_value = 100):\n",
    "    '''\n",
    "    For a given player, check their choice and return a win / lose status\n",
    "    '''\n",
    "    user_number = int(input(f\"Player {player}, guess the random integer the computer chose between {min_value} and {max_value} \"))\n",
    "    # print error message if out of bounds\n",
    "    if not min_value <= user_number <= max_value :\n",
    "        print(f\"ERROR: Player {player} you are out of the range {min_value} - {max_value} \")\n",
    "        return True\n",
    "    if(user_number < goal):\n",
    "        print(f\"Player {player}, too small, try again \")\n",
    "    elif(user_number > goal):\n",
    "        print(f\"Player {player}, it is too big, try again \")\n",
    "    else:\n",
    "        print(f\"Player {player}, you got it, mate, congrats !! \")\n",
    "        return True\n",
    "    return False\n",
    "  \n",
    "\n",
    "def launch_my_game_and_choose_options():\n",
    "    '''    \n",
    "    Launch game and offer options to the user\n",
    "    '''    \n",
    "    print(\"Welcome to GUESS the integer between min and max !\")\n",
    "    options = input(\"Would you like to choose options ? Y/N \")\n",
    "    if options.upper() == \"Y\":\n",
    "        min_value = int(input(\"What min value would you like ? \"))\n",
    "        max_value = int(input(\"What max value would you like ? \"))\n",
    "        number_of_players = 0\n",
    "        while not number_of_players > 0 :\n",
    "            number_of_players = int(input(\"Please choose the number of players : \"))\n",
    "        game_find_the_integer(number_of_players, min_value, max_value)\n",
    "    else:\n",
    "        game_find_the_integer()\n",
    "\n",
    "\n",
    "launch_my_game_and_choose_options()\n"
   ]
  },
  {
   "cell_type": "code",
   "execution_count": 28,
   "metadata": {},
   "outputs": [
    {
     "ename": "SyntaxError",
     "evalue": "invalid syntax (4026028917.py, line 11)",
     "output_type": "error",
     "traceback": [
      "\u001b[1;36m  Cell \u001b[1;32mIn[28], line 11\u001b[1;36m\u001b[0m\n\u001b[1;33m    copy_of_sample = sample_of_values.[:]\u001b[0m\n\u001b[1;37m                                      ^\u001b[0m\n\u001b[1;31mSyntaxError\u001b[0m\u001b[1;31m:\u001b[0m invalid syntax\n"
     ]
    }
   ],
   "source": [
    "# Exercice 3\n",
    "from random import sample\n",
    "\n",
    "def get_ten_biggest_numbers(list_size, number_of_biggest_values):\n",
    "    # create random list of 100 numbers\n",
    "    sample_of_values = sample(range(0, 200), list_size)\n",
    "    print(f\"The original unsorted list is : \")\n",
    "    print(sample_of_values)\n",
    "    # take first x biggest numbers\n",
    "    biggest_numbers = []\n",
    "    copy_of_sample = sample_of_values.[:]\n",
    "    for i in range(number_of_biggest_values):\n",
    "        biggest_numbers.append(max(copy_of_sample))\n",
    "        copy_of_sample.remove(max(copy_of_sample))\n",
    "    # verify results by comparison\n",
    "    sample_of_values.sort(reverse=True)\n",
    "    print(f\"The original list after being sorted with the sort() method is : \")\n",
    "    print(sample_of_values)\n",
    "    print(f\"The biggest numbers (obtained WITHOUT the toolbox of sorting methods) are : \")\n",
    "    print(biggest_numbers)\n",
    "\n",
    "\n",
    "get_ten_biggest_numbers(100, 8)\n"
   ]
  },
  {
   "cell_type": "code",
   "execution_count": 10,
   "metadata": {},
   "outputs": [
    {
     "name": "stdout",
     "output_type": "stream",
     "text": [
      "--------------- FIRST METHOD TO SORT A LIST --------------- \n",
      "The original unsorted list is : \n",
      "[187, 86, 66, 147, 172, 97, 27, 93, 76, 185]\n",
      "The original list after being sorted with the sort() method is : \n",
      "[187, 185, 172, 147, 97, 93, 86, 76, 66, 27]\n",
      "The biggest numbers (obtained WITHOUT the sort() method) are : \n",
      "[187, 185, 172, 147, 97, 93, 86, 76, 66, 27]\n",
      "The first method to sort a list lasted 977.0 microseconds\n"
     ]
    }
   ],
   "source": [
    "# Exercice 4\n",
    "# first algo cf. exercice 3\n",
    "from random import sample\n",
    "from time import time\n",
    "\n",
    "\n",
    "def sort_a_list_first_method():\n",
    "    start_time = time()\n",
    "    sample_of_values = sample(range(0, 200), 10)\n",
    "    print(\"--------------- FIRST METHOD TO SORT A LIST --------------- \")\n",
    "    print(f\"The original unsorted list is : \")\n",
    "    print(sample_of_values)\n",
    "    # take first x biggest numbers\n",
    "    sorted_list = []\n",
    "    copy_of_sample = sample_of_values.[:]\n",
    "    for i in sample_of_values:\n",
    "        sorted_list.append(max(copy_of_sample))\n",
    "        copy_of_sample.remove(max(copy_of_sample))\n",
    "    # verify results by comparison\n",
    "    sample_of_values.sort(reverse=True)\n",
    "    print(f\"The original list after being sorted with the sort() method is : \")\n",
    "    print(sample_of_values)\n",
    "    print(f\"The biggest numbers (obtained WITHOUT the sort() method) are : \")\n",
    "    print(sorted_list)\n",
    "    end_time = time()\n",
    "    elapsed_time = end_time * 1000000 - start_time * 1000000\n",
    "    print(f\"The first method to sort a list lasted {elapsed_time} microseconds.\")\n",
    "\n",
    "sort_a_list_first_method()\n",
    "\n",
    "def sort_a_list_first_method():\n",
    "    sample_of_values = sample(range(0, 200), 10)\n",
    "    print(\"--------------- FIRST METHOD TO SORT A LIST --------------- \")\n",
    "    print(f\"The original unsorted list is : \")\n",
    "    print(sample_of_values)\n",
    "    my_list = [1, 3, 2]\n",
    "    my_list.insert()\n",
    "\n"
   ]
  },
  {
   "cell_type": "code",
   "execution_count": 179,
   "metadata": {},
   "outputs": [
    {
     "name": "stdout",
     "output_type": "stream",
     "text": [
      "3430061596791935255 secondes correspondent à : 110277186110 année(s) 10 mois 6 jour(s) 15 heure(s) 47 minute(s) 35 seconde(s).\n",
      "Speed in km/h is : 106.19. \n",
      "Speed in m/s is : 29.5. \n"
     ]
    }
   ],
   "source": [
    "# Exercice 5 : conversions TODO\n",
    "# TODO TODO TODO : En cours\n",
    "# on entre un nbr de secondes\n",
    "# modulo par 60 donne le reste en secondes\n",
    "# division entière par 60 donne totalité en minute = min\n",
    "# modulo de min par 60 donne minutes\n",
    "# div ent. de min par 60 donne heures totales\n",
    "# etc.\n",
    "\n",
    "# Partie A : convertir des secondes en années, mois, jours, heures, minutes, secondes\n",
    "# y a un problème ici de toute évidence ........\n",
    "def conversion_seconds_in_years_months_days_hours_minuts_seconds(input_in_seconds):\n",
    "    number_of_seconds = input_in_seconds % 60\n",
    "    remaining_time_in_minutes = input_in_seconds // 60\n",
    "    number_of_minutes = remaining_time_in_minutes % 60\n",
    "    remaining_time_in_hours = remaining_time_in_minutes // 60\n",
    "    number_of_hours = remaining_time_in_hours % 24\n",
    "    remaining_time_in_days = remaining_time_in_hours // 24\n",
    "    # on prend arbitrairement des mois de 30 jours\n",
    "    number_of_days = remaining_time_in_days % 30 \n",
    "    remaining_time_in_months = remaining_time_in_days // 30\n",
    "    number_of_months = remaining_time_in_months % 12\n",
    "    remaining_time_in_years = remaining_time_in_months // 12\n",
    "    number_of_years = input_in_seconds // (365.25 * 24 * 3600)\n",
    "    remaining_time_in_seconds = input_in_seconds % (365.25 * 24 * 3600)\n",
    "\n",
    "    print(f\"{input_in_seconds} secondes correspondent à : {number_of_years} année(s) {number_of_months} mois {number_of_days} jour(s) {number_of_hours} heure(s) {number_of_minutes} minute(s) {number_of_seconds} seconde(s).\")\n",
    "\n",
    "\n",
    "input_in_seconds = int(input(\"Please give a number of seconds : \"))\n",
    "conversion_seconds_in_years_months_days_hours_minuts_seconds(input_in_seconds)\n",
    "\n",
    "\n",
    "# Partie B : conversion de vitesse\n",
    "\n",
    "def speed_conversion_and_trim(speed_in_miles_per_hour):\n",
    "    speed_in_km_per_hour = round(speed_in_miles_per_hour * 1609 / 1000, 2)\n",
    "    speed_in_m_per_second  = round(speed_in_km_per_hour * 1000 / 3600, 2)\n",
    "    print(f\"Speed in km/h is : {speed_in_km_per_hour}. \")\n",
    "    print(f\"Speed in m/s is : {speed_in_m_per_second}. \")\n",
    "\n",
    "input_in_seconds = int(input(\"Please give a a speed in miles per hour : \"))\n",
    "speed_conversion_and_trim(input_in_seconds)"
   ]
  },
  {
   "cell_type": "code",
   "execution_count": 27,
   "metadata": {},
   "outputs": [
    {
     "name": "stdout",
     "output_type": "stream",
     "text": [
      "Maximal value of line 8 of Pascal's triangle is : 70\n"
     ]
    }
   ],
   "source": [
    "# Exercice 6 : triangle de Pascal\n",
    "def get_maximal_value_of_Pascal_table_nth_line(n):\n",
    "    line_n_1 = [1, 1]\n",
    "    #  on initialise notre ligne à la 1ere ligne\n",
    "    line_n = line_n_1[:]\n",
    "    for i in range(1, n):\n",
    "        # on itère en mettant à jour notre ligne avec de nouvelles valeurs jusqu'à atteindre la ligne n\n",
    "        line_n = []\n",
    "        for j in range(0, i+2):\n",
    "            # on construit chaque membre de la ligne de 1 à n jusqu'à n\n",
    "            if j == 0:\n",
    "                line_n.append(line_n_1[j])\n",
    "            elif j == i+1:\n",
    "                line_n.append(line_n_1[j-1])\n",
    "            else:\n",
    "                line_n.append(line_n_1[j-1] + line_n_1[j])\n",
    "        line_n_1 = line_n.[:]\n",
    "    print(f\"Maximal value of line {n} of Pascal's triangle is : {max(line_n)}\")\n",
    "\n",
    "get_maximal_value_of_Pascal_table_nth_line(8)\n",
    "\n",
    "#  alternativement il y a la formule mathématique\n",
    "# def pascal(n):\n",
    "#     line = [1]\n",
    "#     for k in range(n):\n",
    "#         line.append(int(line[k] * (n-k) / (k+1)))\n",
    "#     return line\n",
    "# pascal(1)"
   ]
  },
  {
   "cell_type": "code",
   "execution_count": 77,
   "metadata": {},
   "outputs": [
    {
     "name": "stdout",
     "output_type": "stream",
     "text": [
      "my original dictionary is : {'clé1': 'mavaleur1', 'clé2': 'mavaleur2'}\n",
      "my reversed dictionary is : {'mavaleur1': 'clé1', 'mavaleur2': 'clé2'}\n"
     ]
    }
   ],
   "source": [
    "# Exercice 7\n",
    "my_test_dictionary = {\"clé1\":\"mavaleur1\",\"clé2\":\"mavaleur2\"}\n",
    "\n",
    "def reverse_dictionary(dico):\n",
    "    reversed_dico = {}\n",
    "    for key in dico:\n",
    "        reversed_dico[dico[key]]=key\n",
    "    print(f\"my original dictionary is : {dico}\")\n",
    "    print(f\"my reversed dictionary is : {reversed_dico}\")\n",
    "\n",
    "reverse_dictionary(my_test_dictionary)\n",
    "#  solution de Julien : comprehension dico en inversant cle et valeur"
   ]
  },
  {
   "cell_type": "code",
   "execution_count": 24,
   "metadata": {},
   "outputs": [
    {
     "name": "stdout",
     "output_type": "stream",
     "text": [
      "ligne 1 contient du texte\n",
      "ligne 2 aussi a du texte dedans !\n",
      "ligne 3 un  peu   moins    mais espacé !\n",
      "\n",
      "\n"
     ]
    }
   ],
   "source": [
    "# Exercice 8 - partie 1 manipulation de fichiers textes\n",
    "\n",
    "def create_read_edit_file():\n",
    "    '''\n",
    "    Create a .txt file with a name input\n",
    "    Offer to the user either to write or read the file, or to quit the program\n",
    "    '''\n",
    "    file_name = input(\"Please enter your txt file's name : \")\n",
    "    choice = \"\"\n",
    "    open(f\"{file_name}.txt\", \"x\")\n",
    "    while True:\n",
    "            while choice != \"R\" and choice != \"W\" and choice != \"Q\":\n",
    "                choice = input(\"Do you want to read it, write it or do you wish to quit ? R / W / Q\")\n",
    "            if choice == \"Q\":  \n",
    "                return\n",
    "            if choice == \"R\":\n",
    "                with open(f\"{file_name}.txt\", \"r\") as file:\n",
    "                    content = file.read()\n",
    "                    if content == \"\":\n",
    "                        print(\"Your file's content is currently empty, mate.\")\n",
    "                    else:\n",
    "                        print(content)\n",
    "                    choice = \"\"\n",
    "            if choice == \"W\":\n",
    "                with open(f\"{file_name}.txt\", \"w\") as file:\n",
    "                    text_input = \"dummy value\"\n",
    "                    while text_input != \"\":\n",
    "                        text_input = input(\"Write whatever you want. Press ENTER at the end of each line you wan to write. Write nothing and press ENTER to get back to file management.\")\n",
    "                        file.write(f\"{text_input}\\n\")\n",
    "                    choice = \"\"\n",
    "    \n",
    "create_read_edit_file()\n",
    "    \n"
   ]
  },
  {
   "cell_type": "code",
   "execution_count": null,
   "metadata": {},
   "outputs": [],
   "source": [
    "# Exercice 8 partie 2\n",
    "# script qui génère en auto un fichier contenant les tables de multiplicatin de 2 à 30, avec 20 termes à chaque fois\n",
    "\n",
    "def write_mutiplication_tables_of_2_to_30():\n",
    "    '''\n",
    "    Write in a file called \"multiplication_tables.txt\" the table of multiplication\n",
    "    '''\n",
    "    with open(\"multiplication_tables.txt\", \"a\") as file:\n",
    "        for i in range(2, 31):\n",
    "            file.write(f\"Table de multiplication de {i} : \\n\")\n",
    "            file.write(f\"{[x*i for x in range(1, 21)]} \\n\")\n",
    "\n",
    "write_mutiplication_tables_of_2_to_30()"
   ]
  },
  {
   "cell_type": "code",
   "execution_count": 60,
   "metadata": {},
   "outputs": [
    {
     "name": "stdout",
     "output_type": "stream",
     "text": [
      "The file with the normal blanks is called : dummy_file_exo_8.txt.txt !!\n",
      "The file with the big blanks is called : file_with_big_blanks.txt !!\n"
     ]
    }
   ],
   "source": [
    "# Exercice 8 partie 3 - \n",
    "# NOTE : on crée les fichiers dans le répertoire local du notebook !\n",
    "\n",
    "def create_file(name_file, number_of_dummy_lines):\n",
    "    with open(f\"{name_file}\", \"w\") as file_to_create:\n",
    "        dummy_lines = []\n",
    "        for i in range(number_of_dummy_lines):\n",
    "            dummy_lines.append(f\"La ligne {i} du fichier {name_file} contient du texte.\\n\")\n",
    "        file_to_create.writelines(dummy_lines)    \n",
    "\n",
    "def copy_file_mutliply_blanks():\n",
    "    # on crée un fichier pour les besoins de l'exercice\n",
    "    dummy_file_name = \"dummy_file_exo_8.txt\"\n",
    "    create_file(dummy_file_name, 10)\n",
    "    # on lit le fichier créé\n",
    "    with open(f\"{dummy_file_name}\", \"r\") as file_to_copy:\n",
    "        # on parcourt chaque ligne du fichier que l'on met dans un string.\n",
    "        lines = file_to_copy.readlines()\n",
    "        modified_lines = []\n",
    "        # on parse ligne pour la modifier puis l'écrire\n",
    "        for line in lines:\n",
    "            # modification ligne\n",
    "            modified_line = \"\".join([letter if letter != \" \" else \"   \" for letter in line])\n",
    "            #  ecriture nouvelle ligne\n",
    "            modified_lines.append(f\"{modified_line}\")\n",
    "    # file_to_copy.writelines()\n",
    "    with open(f\"file_with_big_blanks.txt\", \"w\") as file_to_write:\n",
    "        file_to_write.writelines(modified_lines)\n",
    "    print(f\"The file with the normal blanks is called : {dummy_file_name}.txt !!\")\n",
    "    print(\"The file with the big blanks is called : file_with_big_blanks.txt !!\")\n",
    "\n",
    "copy_file_mutliply_blanks()"
   ]
  },
  {
   "cell_type": "code",
   "execution_count": 80,
   "metadata": {},
   "outputs": [],
   "source": [
    "# Exercice 8 partie 4 : \n",
    "# NOTE : pour les besoins de l'exercice ont crée deux fichiers dummy dans notre méthode\n",
    "from itertools import zip_longest\n",
    "\n",
    "def alternate_lines_from_two_files():\n",
    "    file_names = [\"file_A.txt\",\"file_B.txt\"]\n",
    "    create_file(file_names[0], 8)\n",
    "    create_file(file_names[1], 2)\n",
    "    # on lit les fichiers \n",
    "    with open(file_names[0], \"r\") as first_file:\n",
    "        with open(file_names[1], \"r\") as second_file:\n",
    "            first_lines = first_file.readlines()\n",
    "            second_lines = second_file.readlines()\n",
    "            c = zip_longest(first_lines, second_lines, fillvalue=\"\")\n",
    "\n",
    "    with open(\"file_C.txt\", \"w\") as written_file:\n",
    "        for elem in c:\n",
    "            written_file.writelines(elem)\n",
    "    \n",
    "alternate_lines_from_two_files()"
   ]
  },
  {
   "cell_type": "code",
   "execution_count": 85,
   "metadata": {},
   "outputs": [
    {
     "name": "stdout",
     "output_type": "stream",
     "text": [
      "Current number of grades is : 1\n",
      "The highest grade is : 5\n",
      "The smallest grade is : 5\n",
      "The average grade is : 5\n",
      "\n",
      "Current number of grades is : 2\n",
      "The highest grade is : 8\n",
      "The smallest grade is : 5\n",
      "The average grade is : 6.5\n",
      "\n",
      "Current number of grades is : 3\n",
      "The highest grade is : 12\n",
      "The smallest grade is : 5\n",
      "The average grade is : 8.33\n",
      "\n"
     ]
    }
   ],
   "source": [
    "# Exercice 9\n",
    "from statistics import mean\n",
    "\n",
    "def grades_manager():\n",
    "    grades_list = []\n",
    "    while True:\n",
    "        grade = input(\"Please enter a new grade. \")\n",
    "        if grade.isdigit():\n",
    "            grades_list.append(int(grade))\n",
    "            print(f\"Current number of grades is : {len(grades_list)}\")\n",
    "            print(f\"The highest grade is : {max(grades_list)}\")\n",
    "            print(f\"The smallest grade is : {min(grades_list)}\")\n",
    "            print(f\"The average grade is : {round(mean(grades_list), 2)}\")\n",
    "            print(\"\")\n",
    "        else:\n",
    "            break\n",
    "\n",
    "grades_manager()\n",
    "\n",
    "# Facultatif : \n",
    "# utiliser pickle pour enregistrer la liste, la récupérer si nécessaire\n",
    "#  quand le user commence : s'il y a une liste ou pluisuers listes, il peut la récupérer, en créer une nouvelle ou écraser une ancienne\n",
    "\n"
   ]
  },
  {
   "cell_type": "code",
   "execution_count": 157,
   "metadata": {},
   "outputs": [
    {
     "name": "stdout",
     "output_type": "stream",
     "text": [
      "{'jane': (46, 'M', 1.56), 'ghjk': (54, 'M', 1.6), 'uio': (55, 'F', 1.89)}\n"
     ]
    }
   ],
   "source": [
    "# Exercice 10 - une première base de données\n",
    "# dans le dico : des individus avec nom, âge, sexe, taille\n",
    "from os import stat\n",
    "\n",
    "individus ={}\n",
    "\n",
    "def remplissage(individus):\n",
    "    name = input(\"Nom : \")\n",
    "    age = int(input(\"Age : \"))\n",
    "    sex = input(\"Sex (M / F) : \")\n",
    "    height = float(input(\"Height in m (X.XX) : \"))\n",
    "    individus[name] = (age,sex,height)\n",
    "    return individus\n",
    "\n",
    "def consultation(individus, name):\n",
    "    age, sex, height = tuple(individus[name])\n",
    "    print(f\"Nom : {name} - âge : {age} ans - sexe : {sex} - taille : {height} m\")\n",
    "    return\n",
    "\n",
    "def sauvegarde(individus):\n",
    "    with open(\"dictionnaire.txt\", \"a+\") as file:\n",
    "        if stat(\"dictionnaire.txt\").st_size != 0:\n",
    "            file.write(\";\")\n",
    "        for index, individu in enumerate(individus.items()):\n",
    "            file.write(f\"{individu[0]}={individu[1]}\")\n",
    "            if(index < len(individus)-1):\n",
    "                file.write(\";\")\n",
    "    return\n",
    "\n",
    "def reconstituer_le_dico_avec_fichier_txt():\n",
    "    individus = {}\n",
    "    with open(\"dictionnaire.txt\", \"r\") as file:\n",
    "        line = file.readline()\n",
    "        # print(line)\n",
    "        couples_key_value = line.split(\";\")\n",
    "        for couple in couples_key_value:\n",
    "            key_and_value = couple.split(\"=\")\n",
    "            individus[key_and_value[0]] = eval(key_and_value[1])\n",
    "    return individus\n",
    "\n",
    "# sauvegarde({\"joe\":(30, \"M\", 2.78), \"Georges\":(40, \"F\", 1.04)})\n",
    "# consultation(reconstituer_le_dico_avec_fichier_txt(), \"joe\")\n",
    "# reconstituer_le_dico_avec_fichier_txt()\n",
    "remplissage(individus)\n",
    "remplissage(individus)\n",
    "remplissage(individus)\n",
    "print(individus)\n"
   ]
  }
 ],
 "metadata": {
  "kernelspec": {
   "display_name": "base",
   "language": "python",
   "name": "python3"
  },
  "language_info": {
   "codemirror_mode": {
    "name": "ipython",
    "version": 3
   },
   "file_extension": ".py",
   "mimetype": "text/x-python",
   "name": "python",
   "nbconvert_exporter": "python",
   "pygments_lexer": "ipython3",
   "version": "3.11.5"
  }
 },
 "nbformat": 4,
 "nbformat_minor": 2
}
